{
 "cells":[
  {
   "cell_type":"code",
   "source":[
    "import numpy as np\n",
    "import pandas as pd\n",
    "\n",
    "import tensorflow as tf\n",
    "\n",
    "from tensorflow.keras.layers import Dense, Flatten, Conv2D\n",
    "from tensorflow.keras import Model"
   ],
   "execution_count":69,
   "outputs":[
    
   ],
   "metadata":{
    "datalore":{
     "node_id":"rdHTvN5VyGEwbrF7Zu10se",
     "type":"CODE",
     "hide_input_from_viewers":true,
     "hide_output_from_viewers":true
    }
   }
  },
  {
   "cell_type":"markdown",
   "source":[
    "# Start projektu - model sieci neuronowej zdefiniowany obiektowo"
   ],
   "attachments":{
    
   },
   "metadata":{
    "datalore":{
     "node_id":"7KGjwfwaCzjJwQPMUTqCXT",
     "type":"MD",
     "hide_input_from_viewers":true,
     "hide_output_from_viewers":true
    }
   }
  },
  {
   "cell_type":"markdown",
   "source":[
    "budowa modelu opartego na klasie Pythona z użyciem **funkcji specjalnych**: <span style=\"color:red; font-size:16pt;\n",
    "font-family:Impact;\">init, call i repr<\/span>"
   ],
   "attachments":{
    
   },
   "metadata":{
    "datalore":{
     "node_id":"KGWGpqhSKYOIZaWgqbpP34",
     "type":"MD",
     "hide_input_from_viewers":true,
     "hide_output_from_viewers":true
    }
   }
  },
  {
   "cell_type":"code",
   "source":[
    "mnist = tf.keras.datasets.mnist\n",
    "\n",
    "(x_train,y_train),(x_test,y_test) = mnist.load_data()\n",
    "x_train,x_test = x_train\/255.0, x_test\/255.0\n",
    "x_train = x_train[...,tf.newaxis].astype(\"float32\")\n",
    "x_test = x_test[...,tf.newaxis].astype(\"float32\")"
   ],
   "execution_count":70,
   "outputs":[
    
   ],
   "metadata":{
    "datalore":{
     "node_id":"bpsWzFdtOabM2apTGQ6p8J",
     "type":"CODE",
     "hide_input_from_viewers":true,
     "hide_output_from_viewers":true
    }
   }
  },
  {
   "cell_type":"code",
   "source":[
    "#przygotwanie zbiorów danych do przetwarzania wsadowego dla modelu\n",
    "train_ds = tf.data.Dataset.from_tensor_slices(\n",
    "    (x_train,y_train)\n",
    ").shuffle(10000).batch(32)\n",
    "\n",
    "test_ds = tf.data.Dataset.from_tensor_slices((x_test,y_test)).batch(32)"
   ],
   "execution_count":71,
   "outputs":[
    
   ],
   "metadata":{
    "datalore":{
     "node_id":"kNcbXK6N7fh4efCYqyvKEI",
     "type":"CODE",
     "hide_input_from_viewers":true,
     "hide_output_from_viewers":true
    }
   }
  },
  {
   "cell_type":"code",
   "source":[
    "x_train.shape"
   ],
   "execution_count":72,
   "outputs":[
    {
     "data":{
      "text\/plain":[
       "(60000, 28, 28, 1)"
      ]
     },
     "metadata":{
      
     },
     "output_type":"display_data"
    }
   ],
   "metadata":{
    "datalore":{
     "node_id":"YrQYGXmaYsV1NhMkgxKMcb",
     "type":"CODE",
     "hide_input_from_viewers":true,
     "hide_output_from_viewers":true
    }
   }
  },
  {
   "cell_type":"code",
   "source":[
    "x_test.shape"
   ],
   "execution_count":73,
   "outputs":[
    {
     "data":{
      "text\/plain":[
       "(10000, 28, 28, 1)"
      ]
     },
     "metadata":{
      
     },
     "output_type":"display_data"
    }
   ],
   "metadata":{
    "datalore":{
     "node_id":"B6tRXRZF8E8iNXbD8TsouJ",
     "type":"CODE",
     "hide_input_from_viewers":true,
     "hide_output_from_viewers":true
    }
   }
  },
  {
   "cell_type":"markdown",
   "source":[
    "# Budowa modelu w oparciu o interfejs: API do tworzenia podklas modelu KERAS"
   ],
   "attachments":{
    
   },
   "metadata":{
    "datalore":{
     "node_id":"hpkys53MxzTv1Pfd9G56Uu",
     "type":"MD",
     "hide_input_from_viewers":true,
     "hide_output_from_viewers":true
    }
   }
  },
  {
   "cell_type":"code",
   "source":[
    "import matplotlib.pyplot as plt\n",
    "\n",
    "def relu(x):\n",
    "    return np.maximum(0, x)\n",
    "\n",
    "x = np.linspace(-10, 10, 1000)\n",
    "y = relu(x)\n",
    "\n",
    "fig,ax = plt.subplots(figsize=[10, 5])\n",
    "\n",
    "ax.plot(x, y)\n",
    "ax.set_title('ReLU Function')\n",
    "ax.set_xlabel('x')\n",
    "ax.set_ylabel('ReLU(x)')\n",
    "ax.grid(True)\n",
    "fig.savefig('relu.png')\n",
    "plt.show()"
   ],
   "execution_count":74,
   "outputs":[
    {
     "data":{
      "text\/plain":[
       "<Figure size 720x360 with 1 Axes>"
      ]
     },
     "metadata":{
      
     },
     "output_type":"display_data"
    }
   ],
   "metadata":{
    "datalore":{
     "node_id":"YYNS5p2Zm47qMyu3CfLAhC",
     "type":"CODE",
     "hide_input_from_viewers":true,
     "hide_output_from_viewers":true
    }
   }
  },
  {
   "cell_type":"code",
   "source":[
    "class ModelNeuralNet(Model):\n",
    "    # def __new__(cls, *args, **kwargs):\n",
    "    #     return object.__new__(ModelNeuralNet)\n",
    "    def __init__(self):\n",
    "        super(ModelNeuralNet,self).__init__()\n",
    "        self.conv1 = Conv2D(32,3,activation='relu')\n",
    "        self.flatten = Flatten()\n",
    "        self.d1 = Dense(128,activation='relu')\n",
    "        self.d2 = Dense(10)\n",
    "\n",
    "    def call(self,x):\n",
    "        x = self.conv1(x)\n",
    "        x = self.flatten(x)\n",
    "        x = self.d1(x)\n",
    "        return self.d2(x)\n",
    "    \n",
    "    def __repr__(self):\n",
    "        return  f\"klasa {self.__class__.__name__} -> wynik call: połaczone warstwy modelu\""
   ],
   "execution_count":75,
   "outputs":[
    
   ],
   "metadata":{
    "datalore":{
     "node_id":"Ztm6T78GmuRXmBO1tecTgm",
     "type":"CODE",
     "hide_input_from_viewers":true,
     "hide_output_from_viewers":true
    }
   }
  },
  {
   "cell_type":"code",
   "source":[
    "model = ModelNeuralNet()\n",
    "print(model)"
   ],
   "execution_count":76,
   "outputs":[
    {
     "name":"stdout",
     "text":[
      "klasa ModelNeuralNet -> wynik call: połaczone warstwy modelu\n"
     ],
     "output_type":"stream"
    }
   ],
   "metadata":{
    "datalore":{
     "node_id":"6yfAqg6sUQbGGKofHZfH9K",
     "type":"CODE",
     "hide_input_from_viewers":true,
     "hide_output_from_viewers":true
    }
   }
  },
  {
   "cell_type":"code",
   "source":[
    "loss_object = tf.keras.losses.SparseCategoricalCrossentropy(from_logits=True)\n",
    "optimizer = tf.keras.optimizers.Adam()"
   ],
   "execution_count":77,
   "outputs":[
    
   ],
   "metadata":{
    "datalore":{
     "node_id":"pn7a2UDRTFd16n0o7PIR3D",
     "type":"CODE",
     "hide_input_from_viewers":true,
     "hide_output_from_viewers":true
    }
   }
  },
  {
   "cell_type":"code",
   "source":[
    "#metryki do pomiary straty i dokładności modelu\n",
    "train_loss = tf.keras.metrics.Mean(name='train_loss')\n",
    "train_accuracy = tf.keras.metrics.SparseCategoricalAccuracy(name='train_accuracy')"
   ],
   "execution_count":78,
   "outputs":[
    
   ],
   "metadata":{
    "datalore":{
     "node_id":"mrnrNeOHZt7p2znyTe6342",
     "type":"CODE",
     "hide_input_from_viewers":true,
     "hide_output_from_viewers":true
    }
   }
  },
  {
   "cell_type":"code",
   "source":[
    "test_loss = tf.keras.metrics.Mean(name='test_loss')\n",
    "test_accuracy = tf.keras.metrics.SparseCategoricalAccuracy(name='test_accuracy')"
   ],
   "execution_count":79,
   "outputs":[
    
   ],
   "metadata":{
    "datalore":{
     "node_id":"xXf6fF6sPtF0Lvft30Khe8",
     "type":"CODE",
     "hide_input_from_viewers":true,
     "hide_output_from_viewers":true
    }
   }
  },
  {
   "cell_type":"code",
   "source":[
    "#użycie tf.GradientTape do trenowania modelu\n",
    "\n",
    "@tf.function\n",
    "def train_step(images,labels):\n",
    "    with tf.GradientTape() as tape:\n",
    "        predictions = model(images,training=True)\n",
    "        loss = loss_object(labels,predictions)\n",
    "    gradients = tape.gradient(loss,model.trainable_variables)\n",
    "    optimizer.apply_gradients(zip(gradients,model.trainable_variables))\n",
    "\n",
    "    train_loss(loss)\n",
    "    train_accuracy(labels,predictions)"
   ],
   "execution_count":80,
   "outputs":[
    
   ],
   "metadata":{
    "datalore":{
     "node_id":"7eQFB90usx4scNSs3iLk3f",
     "type":"CODE",
     "hide_input_from_viewers":true,
     "hide_output_from_viewers":true
    }
   }
  },
  {
   "cell_type":"code",
   "source":[
    "@tf.function\n",
    "def test_step(images,labels):\n",
    "    predictions = model(images,training=False)\n",
    "    t_loss = loss_object(labels,predictions)\n",
    "\n",
    "    test_loss(t_loss)\n",
    "    test_accuracy(labels,predictions)\n"
   ],
   "execution_count":81,
   "outputs":[
    
   ],
   "metadata":{
    "datalore":{
     "node_id":"CAZM09jLjErhIr4xCitKvn",
     "type":"CODE",
     "hide_input_from_viewers":true,
     "hide_output_from_viewers":true
    }
   }
  },
  {
   "cell_type":"markdown",
   "source":[
    "# Trenowanie modelu opisanego obiektowo z użyciem funkcji @tf.function"
   ],
   "attachments":{
    
   },
   "metadata":{
    "datalore":{
     "node_id":"mBudIJcNFoovylDpKvgBMq",
     "type":"MD",
     "hide_input_from_viewers":true,
     "hide_output_from_viewers":true
    }
   }
  },
  {
   "cell_type":"code",
   "source":[
    "EPOCHS = 5\n",
    "for epoch in range(EPOCHS):\n",
    "    train_loss.reset_states()\n",
    "    train_accuracy.reset_states()\n",
    "    test_loss.reset_states()\n",
    "    test_accuracy.reset_state()\n",
    "\n",
    "    for images, labels in train_ds:\n",
    "        train_step(images,labels)\n",
    "\n",
    "    for test_images, test_labels in test_ds:\n",
    "        test_step(test_images,test_labels)\n",
    "\n",
    "    print(\n",
    "        f'epoch {epoch + 1},'\n",
    "        f'Loss: {train_loss.result()},'\n",
    "        f'Accuracy: {train_accuracy.result()*100},'\n",
    "        f'Test Loss: {test_loss.result()},'\n",
    "        f'Test Accuracy: {test_accuracy.result()*100}'\n",
    "    )"
   ],
   "execution_count":82,
   "outputs":[
    {
     "name":"stdout",
     "text":[
      "epoch 1,Loss: 0.13445931673049927,Accuracy: 95.89666748046875,Test Loss: 0.06309288740158081,Test Accuracy: 97.93000030517578\n",
      "epoch 2,Loss: 0.04094651713967323,Accuracy: 98.68000030517578,Test Loss: 0.05404546856880188,Test Accuracy: 98.23999786376953\n",
      "epoch 3,Loss: 0.021835045889019966,Accuracy: 99.28666687011719,Test Loss: 0.05173453316092491,Test Accuracy: 98.3699951171875\n",
      "epoch 4,Loss: 0.013543202541768551,Accuracy: 99.52832794189453,Test Loss: 0.05220885947346687,Test Accuracy: 98.45999908447266\n",
      "epoch 5,Loss: 0.008073427714407444,Accuracy: 99.75333404541016,Test Loss: 0.06927244365215302,Test Accuracy: 98.29000091552734\n"
     ],
     "output_type":"stream"
    }
   ],
   "metadata":{
    "datalore":{
     "node_id":"sveTsznv8njRoIUdJ3vIc7",
     "type":"CODE",
     "hide_input_from_viewers":true,
     "hide_output_from_viewers":true
    }
   }
  }
 ],
 "metadata":{
  "kernelspec":{
   "display_name":"Python",
   "language":"python",
   "name":"python"
  },
  "datalore":{
   "computation_mode":"JUPYTER",
   "package_manager":"pip",
   "base_environment":"default",
   "packages":[
    
   ],
   "report_row_ids":[
    
   ],
   "version":3
  }
 },
 "nbformat":4,
 "nbformat_minor":4
}