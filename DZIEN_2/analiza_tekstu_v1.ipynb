{
 "cells":[
  {
   "cell_type":"code",
   "source":[
    "!pip install tensorflow-hub\n",
    "!pip install tensorflow-datasets"
   ],
   "execution_count":1,
   "outputs":[
    {
     "name":"stdout",
     "text":[
      "Collecting tensorflow-hub\r\n",
      "  Downloading tensorflow_hub-0.16.1-py2.py3-none-any.whl (30 kB)\r\n",
      "Requirement already satisfied: numpy>=1.12.0 in \/opt\/python\/envs\/default\/lib\/python3.8\/site-packages (from tensorflow-hub) (1.24.3)\r\n",
      "Requirement already satisfied: protobuf>=3.19.6 in \/opt\/python\/envs\/default\/lib\/python3.8\/site-packages (from tensorflow-hub) (3.19.6)\r\n",
      "Collecting tf-keras>=2.14.1 (from tensorflow-hub)\r\n",
      "  Downloading tf_keras-2.15.1-py3-none-any.whl (1.7 MB)\r\n",
      "\u001b[?25l     \u001b[90m━━━━━━━━━━━━━━━━━━━━━━━━━━━━━━━━━━━━━━━━\u001b[0m \u001b[32m0.0\/1.7 MB\u001b[0m \u001b[31m?\u001b[0m eta \u001b[36m-:--:--\u001b[0m\r\u001b[2K     \u001b[91m━━━━━━━━━━━━━━━━━━━━━━━━━━━━━━━━━━━━━━━\u001b[0m\u001b[91m╸\u001b[0m \u001b[32m1.7\/1.7 MB\u001b[0m \u001b[31m79.8 MB\/s\u001b[0m eta \u001b[36m0:00:01\u001b[0m\r\u001b[2K     \u001b[90m━━━━━━━━━━━━━━━━━━━━━━━━━━━━━━━━━━━━━━━━\u001b[0m \u001b[32m1.7\/1.7 MB\u001b[0m \u001b[31m47.2 MB\/s\u001b[0m eta \u001b[36m0:00:00\u001b[0m\r\n",
      "\u001b[?25hINFO: pip is looking at multiple versions of tf-keras to determine which version is compatible with other requirements. This could take a while.\r\n",
      "  Downloading tf_keras-2.15.0-py3-none-any.whl (1.7 MB)\r\n",
      "\u001b[?25l     \u001b[90m━━━━━━━━━━━━━━━━━━━━━━━━━━━━━━━━━━━━━━━━\u001b[0m \u001b[32m0.0\/1.7 MB\u001b[0m \u001b[31m?\u001b[0m eta \u001b[36m-:--:--\u001b[0m\r\u001b[2K     \u001b[90m━━━━━━━━━━━━━━━━━━━━━━━━━━━━━━━━━━━━━━━━\u001b[0m \u001b[32m1.7\/1.7 MB\u001b[0m \u001b[31m61.3 MB\/s\u001b[0m eta \u001b[36m0:00:00\u001b[0m\r\n",
      "\u001b[?25hInstalling collected packages: tf-keras, tensorflow-hub\r\n",
      "Successfully installed tensorflow-hub-0.16.1 tf-keras-2.15.0\r\n",
      "\r\n",
      "\u001b[1m[\u001b[0m\u001b[34;49mnotice\u001b[0m\u001b[1;39;49m]\u001b[0m\u001b[39;49m A new release of pip is available: \u001b[0m\u001b[31;49m23.1.2\u001b[0m\u001b[39;49m -> \u001b[0m\u001b[32;49m24.0\u001b[0m\r\n",
      "\u001b[1m[\u001b[0m\u001b[34;49mnotice\u001b[0m\u001b[1;39;49m]\u001b[0m\u001b[39;49m To update, run: \u001b[0m\u001b[32;49mpip install --upgrade pip\u001b[0m\r\n",
      "Collecting tensorflow-datasets\r\n",
      "  Downloading tensorflow_datasets-4.9.2-py3-none-any.whl (5.4 MB)\r\n",
      "\u001b[?25l     \u001b[90m━━━━━━━━━━━━━━━━━━━━━━━━━━━━━━━━━━━━━━━━\u001b[0m \u001b[32m0.0\/5.4 MB\u001b[0m \u001b[31m?\u001b[0m eta \u001b[36m-:--:--\u001b[0m\r\u001b[2K     \u001b[91m━━━━━━━━━━━━━━━━━━\u001b[0m\u001b[90m╺\u001b[0m\u001b[90m━━━━━━━━━━━━━━━━━━━━━\u001b[0m \u001b[32m2.5\/5.4 MB\u001b[0m \u001b[31m74.8 MB\/s\u001b[0m eta \u001b[36m0:00:01\u001b[0m\r\u001b[2K     \u001b[91m━━━━━━━━━━━━━━━━━━━━━━━━━━━━━━━━━\u001b[0m\u001b[91m╸\u001b[0m\u001b[90m━━━━━━\u001b[0m \u001b[32m4.5\/5.4 MB\u001b[0m \u001b[31m72.3 MB\/s\u001b[0m eta \u001b[36m0:00:01\u001b[0m\r\u001b[2K     \u001b[91m━━━━━━━━━━━━━━━━━━━━━━━━━━━━━━━━━━━━━━━\u001b[0m\u001b[91m╸\u001b[0m \u001b[32m5.4\/5.4 MB\u001b[0m \u001b[31m66.0 MB\/s\u001b[0m eta \u001b[36m0:00:01\u001b[0m\r\u001b[2K     \u001b[90m━━━━━━━━━━━━━━━━━━━━━━━━━━━━━━━━━━━━━━━━\u001b[0m \u001b[32m5.4\/5.4 MB\u001b[0m \u001b[31m38.4 MB\/s\u001b[0m eta \u001b[36m0:00:00\u001b[0m\r\n",
      "\u001b[?25hRequirement already satisfied: absl-py in \/opt\/python\/envs\/default\/lib\/python3.8\/site-packages (from tensorflow-datasets) (2.1.0)\r\n",
      "Collecting array-record (from tensorflow-datasets)\r\n",
      "  Downloading array_record-0.4.0-py38-none-any.whl (3.0 MB)\r\n",
      "\u001b[?25l     \u001b[90m━━━━━━━━━━━━━━━━━━━━━━━━━━━━━━━━━━━━━━━━\u001b[0m \u001b[32m0.0\/3.0 MB\u001b[0m \u001b[31m?\u001b[0m eta \u001b[36m-:--:--\u001b[0m\r\u001b[2K     \u001b[91m━━━━━━━━━━━━━━━━━━━━━━━━━━━━━━━\u001b[0m\u001b[91m╸\u001b[0m\u001b[90m━━━━━━━━\u001b[0m \u001b[32m2.4\/3.0 MB\u001b[0m \u001b[31m70.3 MB\/s\u001b[0m eta \u001b[36m0:00:01\u001b[0m\r\u001b[2K     \u001b[91m━━━━━━━━━━━━━━━━━━━━━━━━━━━━━━━━━━━━━━━\u001b[0m\u001b[91m╸\u001b[0m \u001b[32m3.0\/3.0 MB\u001b[0m \u001b[31m72.4 MB\/s\u001b[0m eta \u001b[36m0:00:01\u001b[0m\r\u001b[2K     \u001b[90m━━━━━━━━━━━━━━━━━━━━━━━━━━━━━━━━━━━━━━━━\u001b[0m \u001b[32m3.0\/3.0 MB\u001b[0m \u001b[31m40.4 MB\/s\u001b[0m eta \u001b[36m0:00:00\u001b[0m\r\n",
      "\u001b[?25hRequirement already satisfied: click in \/opt\/python\/envs\/default\/lib\/python3.8\/site-packages (from tensorflow-datasets) (8.1.7)\r\n",
      "Collecting dm-tree (from tensorflow-datasets)\r\n",
      "  Downloading dm_tree-0.1.8-cp38-cp38-manylinux_2_17_x86_64.manylinux2014_x86_64.whl (152 kB)\r\n",
      "\u001b[?25l     \u001b[90m━━━━━━━━━━━━━━━━━━━━━━━━━━━━━━━━━━━━━━━━\u001b[0m \u001b[32m0.0\/152.9 kB\u001b[0m \u001b[31m?\u001b[0m eta \u001b[36m-:--:--\u001b[0m\r\u001b[2K     \u001b[90m━━━━━━━━━━━━━━━━━━━━━━━━━━━━━━━━━━━━━━\u001b[0m \u001b[32m152.9\/152.9 kB\u001b[0m \u001b[31m19.7 MB\/s\u001b[0m eta \u001b[36m0:00:00\u001b[0m\r\n",
      "\u001b[?25hCollecting etils[enp,epath]>=0.9.0 (from tensorflow-datasets)\r\n",
      "  Downloading etils-1.3.0-py3-none-any.whl (126 kB)\r\n",
      "\u001b[?25l     \u001b[90m━━━━━━━━━━━━━━━━━━━━━━━━━━━━━━━━━━━━━━━━\u001b[0m \u001b[32m0.0\/126.4 kB\u001b[0m \u001b[31m?\u001b[0m eta \u001b[36m-:--:--\u001b[0m\r\u001b[2K     \u001b[90m━━━━━━━━━━━━━━━━━━━━━━━━━━━━━━━━━━━━━━\u001b[0m \u001b[32m126.4\/126.4 kB\u001b[0m \u001b[31m21.3 MB\/s\u001b[0m eta \u001b[36m0:00:00\u001b[0m\r\n",
      "\u001b[?25hRequirement already satisfied: numpy in \/opt\/python\/envs\/default\/lib\/python3.8\/site-packages (from tensorflow-datasets) (1.24.3)\r\n",
      "Collecting promise (from tensorflow-datasets)\r\n",
      "  Downloading promise-2.3.tar.gz (19 kB)\r\n",
      "  Preparing metadata (setup.py) ... \u001b[?25l-\b \bdone\r\n",
      "\u001b[?25hCollecting protobuf>=3.20 (from tensorflow-datasets)\r\n",
      "  Downloading protobuf-5.26.1-cp37-abi3-manylinux2014_x86_64.whl (302 kB)\r\n",
      "\u001b[?25l     \u001b[90m━━━━━━━━━━━━━━━━━━━━━━━━━━━━━━━━━━━━━━━━\u001b[0m \u001b[32m0.0\/302.8 kB\u001b[0m \u001b[31m?\u001b[0m eta \u001b[36m-:--:--\u001b[0m\r\u001b[2K     \u001b[90m━━━━━━━━━━━━━━━━━━━━━━━━━━━━━━━━━━━━━━\u001b[0m \u001b[32m302.8\/302.8 kB\u001b[0m \u001b[31m34.9 MB\/s\u001b[0m eta \u001b[36m0:00:00\u001b[0m\r\n",
      "\u001b[?25hCollecting psutil (from tensorflow-datasets)\r\n",
      "  Downloading psutil-5.9.8-cp36-abi3-manylinux_2_12_x86_64.manylinux2010_x86_64.manylinux_2_17_x86_64.manylinux2014_x86_64.whl (288 kB)\r\n",
      "\u001b[?25l     \u001b[90m━━━━━━━━━━━━━━━━━━━━━━━━━━━━━━━━━━━━━━━━\u001b[0m \u001b[32m0.0\/288.2 kB\u001b[0m \u001b[31m?\u001b[0m eta \u001b[36m-:--:--\u001b[0m\r\u001b[2K     \u001b[90m━━━━━━━━━━━━━━━━━━━━━━━━━━━━━━━━━━━━━━\u001b[0m \u001b[32m288.2\/288.2 kB\u001b[0m \u001b[31m36.8 MB\/s\u001b[0m eta \u001b[36m0:00:00\u001b[0m\r\n",
      "\u001b[?25hRequirement already satisfied: requests>=2.19.0 in \/opt\/python\/envs\/default\/lib\/python3.8\/site-packages (from tensorflow-datasets) (2.30.0)\r\n",
      "Collecting tensorflow-metadata (from tensorflow-datasets)\r\n",
      "  Downloading tensorflow_metadata-1.14.0-py3-none-any.whl (28 kB)\r\n",
      "Requirement already satisfied: termcolor in \/opt\/python\/envs\/default\/lib\/python3.8\/site-packages (from tensorflow-datasets) (2.4.0)\r\n",
      "Collecting toml (from tensorflow-datasets)\r\n",
      "  Downloading toml-0.10.2-py2.py3-none-any.whl (16 kB)\r\n",
      "Requirement already satisfied: tqdm in \/opt\/python\/envs\/default\/lib\/python3.8\/site-packages (from tensorflow-datasets) (4.66.2)\r\n",
      "Requirement already satisfied: wrapt in \/opt\/python\/envs\/default\/lib\/python3.8\/site-packages (from tensorflow-datasets) (1.16.0)\r\n",
      "Requirement already satisfied: importlib-resources in \/opt\/python\/envs\/default\/lib\/python3.8\/site-packages (from tensorflow-datasets) (6.4.0)\r\n",
      "Requirement already satisfied: typing_extensions in \/opt\/python\/envs\/default\/lib\/python3.8\/site-packages (from etils[enp,epath]>=0.9.0->tensorflow-datasets) (4.11.0)\r\n",
      "Requirement already satisfied: zipp in \/opt\/python\/envs\/default\/lib\/python3.8\/site-packages (from etils[enp,epath]>=0.9.0->tensorflow-datasets) (3.18.1)\r\n",
      "Requirement already satisfied: charset-normalizer<4,>=2 in \/opt\/python\/envs\/default\/lib\/python3.8\/site-packages (from requests>=2.19.0->tensorflow-datasets) (3.3.2)\r\n",
      "Requirement already satisfied: idna<4,>=2.5 in \/opt\/python\/envs\/default\/lib\/python3.8\/site-packages (from requests>=2.19.0->tensorflow-datasets) (3.6)\r\n",
      "Requirement already satisfied: urllib3<3,>=1.21.1 in \/opt\/python\/envs\/default\/lib\/python3.8\/site-packages (from requests>=2.19.0->tensorflow-datasets) (1.26.18)\r\n",
      "Requirement already satisfied: certifi>=2017.4.17 in \/opt\/python\/envs\/default\/lib\/python3.8\/site-packages (from requests>=2.19.0->tensorflow-datasets) (2024.2.2)\r\n",
      "Requirement already satisfied: six in \/opt\/python\/envs\/default\/lib\/python3.8\/site-packages (from promise->tensorflow-datasets) (1.16.0)\r\n",
      "Collecting absl-py (from tensorflow-datasets)\r\n",
      "  Downloading absl_py-1.4.0-py3-none-any.whl (126 kB)\r\n",
      "\u001b[?25l     \u001b[90m━━━━━━━━━━━━━━━━━━━━━━━━━━━━━━━━━━━━━━━━\u001b[0m \u001b[32m0.0\/126.5 kB\u001b[0m \u001b[31m?\u001b[0m eta \u001b[36m-:--:--\u001b[0m\r\u001b[2K     \u001b[90m━━━━━━━━━━━━━━━━━━━━━━━━━━━━━━━━━━━━━━\u001b[0m \u001b[32m126.5\/126.5 kB\u001b[0m \u001b[31m21.5 MB\/s\u001b[0m eta \u001b[36m0:00:00\u001b[0m\r\n",
      "\u001b[?25hCollecting googleapis-common-protos<2,>=1.52.0 (from tensorflow-metadata->tensorflow-datasets)\r\n",
      "  Downloading googleapis_common_protos-1.63.0-py2.py3-none-any.whl (229 kB)\r\n",
      "\u001b[?25l     \u001b[90m━━━━━━━━━━━━━━━━━━━━━━━━━━━━━━━━━━━━━━━━\u001b[0m \u001b[32m0.0\/229.1 kB\u001b[0m \u001b[31m?\u001b[0m eta \u001b[36m-:--:--\u001b[0m\r\u001b[2K     \u001b[90m━━━━━━━━━━━━━━━━━━━━━━━━━━━━━━━━━━━━━━\u001b[0m \u001b[32m229.1\/229.1 kB\u001b[0m \u001b[31m30.5 MB\/s\u001b[0m eta \u001b[36m0:00:00\u001b[0m\r\n",
      "\u001b[?25hCollecting protobuf>=3.20 (from tensorflow-datasets)\r\n",
      "  Downloading protobuf-3.20.3-cp38-cp38-manylinux_2_5_x86_64.manylinux1_x86_64.whl (1.0 MB)\r\n",
      "\u001b[?25l     \u001b[90m━━━━━━━━━━━━━━━━━━━━━━━━━━━━━━━━━━━━━━━━\u001b[0m \u001b[32m0.0\/1.0 MB\u001b[0m \u001b[31m?\u001b[0m eta \u001b[36m-:--:--\u001b[0m\r\u001b[2K     \u001b[90m━━━━━━━━━━━━━━━━━━━━━━━━━━━━━━━━━━━━━━━━\u001b[0m \u001b[32m1.0\/1.0 MB\u001b[0m \u001b[31m48.8 MB\/s\u001b[0m eta \u001b[36m0:00:00\u001b[0m\r\n",
      "\u001b[?25hBuilding wheels for collected packages: promise\r\n",
      "  Building wheel for promise (setup.py) ... \u001b[?25l-\b \b\\\b \b|\b \bdone\r\n",
      "\u001b[?25h  Created wheel for promise: filename=promise-2.3-py3-none-any.whl size=21483 sha256=75be945bc24e4d11b598e17a8933f8e50366cf8a86eb315426858e4221f2668a\r\n",
      "  Stored in directory: \/home\/datalore\/.cache\/pip\/wheels\/54\/aa\/01\/724885182f93150035a2a91bce34a12877e8067a97baaf5dc8\r\n",
      "Successfully built promise\r\n",
      "Installing collected packages: dm-tree, toml, psutil, protobuf, promise, etils, absl-py, googleapis-common-protos, tensorflow-metadata, array-record, tensorflow-datasets\r\n",
      "  Attempting uninstall: protobuf\r\n",
      "    Found existing installation: protobuf 3.19.6\r\n",
      "    Uninstalling protobuf-3.19.6:\r\n",
      "      Successfully uninstalled protobuf-3.19.6\r\n",
      "  Attempting uninstall: absl-py\r\n",
      "    Found existing installation: absl-py 2.1.0\r\n",
      "    Uninstalling absl-py-2.1.0:\r\n",
      "      Successfully uninstalled absl-py-2.1.0\r\n",
      "\u001b[31mERROR: pip's dependency resolver does not currently take into account all the packages that are installed. This behaviour is the source of the following dependency conflicts.\r\n",
      "tensorboard 2.10.1 requires protobuf<3.20,>=3.9.2, but you have protobuf 3.20.3 which is incompatible.\r\n",
      "tensorflow-cpu 2.10.1 requires protobuf<3.20,>=3.9.2, but you have protobuf 3.20.3 which is incompatible.\u001b[0m\u001b[31m\r\n",
      "\u001b[0mSuccessfully installed absl-py-1.4.0 array-record-0.4.0 dm-tree-0.1.8 etils-1.3.0 googleapis-common-protos-1.63.0 promise-2.3 protobuf-3.20.3 psutil-5.9.8 tensorflow-datasets-4.9.2 tensorflow-metadata-1.14.0 toml-0.10.2\r\n",
      "\r\n",
      "\u001b[1m[\u001b[0m\u001b[34;49mnotice\u001b[0m\u001b[1;39;49m]\u001b[0m\u001b[39;49m A new release of pip is available: \u001b[0m\u001b[31;49m23.1.2\u001b[0m\u001b[39;49m -> \u001b[0m\u001b[32;49m24.0\u001b[0m\r\n",
      "\u001b[1m[\u001b[0m\u001b[34;49mnotice\u001b[0m\u001b[1;39;49m]\u001b[0m\u001b[39;49m To update, run: \u001b[0m\u001b[32;49mpip install --upgrade pip\u001b[0m\r\n"
     ],
     "output_type":"stream"
    }
   ],
   "metadata":{
    "datalore":{
     "node_id":"T8qUTbCNNsqgjK12m7RHuR",
     "type":"CODE",
     "hide_input_from_viewers":true,
     "hide_output_from_viewers":true
    }
   }
  },
  {
   "cell_type":"code",
   "source":[
    "import os\n",
    "import numpy as np\n",
    "\n",
    "import tensorflow as tf\n",
    "import tensorflow_hub as hub\n",
    "import tensorflow_datasets as tfds"
   ],
   "execution_count":2,
   "outputs":[
    
   ],
   "metadata":{
    "datalore":{
     "node_id":"e8UCUht3N7ibYZkkthBoV6",
     "type":"CODE",
     "hide_input_from_viewers":true,
     "hide_output_from_viewers":true
    }
   }
  },
  {
   "cell_type":"code",
   "source":[
    "print(f'TF version: {tf.__version__}')\n",
    "print(f'Eager mode: {tf.executing_eagerly()}')\n",
    "print(f'HUB version: {hub.__version__}')\n",
    "print(f'GPU available: {\"AVAILABLE\" if tf.config.list_logical_devices(\"GPU\") else \"NOT AVAILABLE\"}')"
   ],
   "execution_count":3,
   "outputs":[
    {
     "name":"stdout",
     "text":[
      "TF version: 2.10.1\n",
      "Eager mode: True\n",
      "HUB version: 0.16.1\n",
      "GPU available: NOT AVAILABLE\n"
     ],
     "output_type":"stream"
    }
   ],
   "metadata":{
    "datalore":{
     "node_id":"1GvhRRHkdWJ8KiaHEkJa91",
     "type":"CODE",
     "hide_input_from_viewers":true,
     "hide_output_from_viewers":true
    }
   }
  },
  {
   "cell_type":"code",
   "source":[
    "train_data,validation_data,test_data = tfds.load(\n",
    "    name=\"imdb_reviews\",\n",
    "    split=('train[:60%]','train[60%:]','test'),\n",
    "    as_supervised=True\n",
    ")"
   ],
   "execution_count":4,
   "outputs":[
    {
     "name":"stdout",
     "text":[
      "Downloading and preparing dataset 80.23 MiB (download: 80.23 MiB, generated: Unknown size, total: 80.23 MiB) to \/home\/datalore\/tensorflow_datasets\/imdb_reviews\/plain_text\/1.0.0...\n",
      "Dataset imdb_reviews downloaded and prepared to \/home\/datalore\/tensorflow_datasets\/imdb_reviews\/plain_text\/1.0.0. Subsequent calls will reuse this data.\n"
     ],
     "output_type":"stream"
    },
    {
     "data":{
      "application\/vnd.jupyter.widget-view+json":{
       "version_major":2,
       "version_minor":0,
       "model_id":"5978b75a15e34bc79a653c615d5daaa9"
      }
     },
     "metadata":{
      "application\/vnd.jupyter.widget-view+json":{
       "datalore":{
        "widget_id":"V7QZy38OatI6Qq015BYHIL"
       }
      }
     },
     "output_type":"display_data"
    },
    {
     "data":{
      "application\/vnd.jupyter.widget-view+json":{
       "version_major":2,
       "version_minor":0,
       "model_id":"4715f8e4159d4d5ea2f910098a00def2"
      }
     },
     "metadata":{
      "application\/vnd.jupyter.widget-view+json":{
       "datalore":{
        "widget_id":"you3RMeA73Ufq8gNjS9vvz"
       }
      }
     },
     "output_type":"display_data"
    },
    {
     "data":{
      "application\/vnd.jupyter.widget-view+json":{
       "version_major":2,
       "version_minor":0,
       "model_id":"e0bc5cf4430847a6bd8684dcd35cabc8"
      }
     },
     "metadata":{
      "application\/vnd.jupyter.widget-view+json":{
       "datalore":{
        "widget_id":"KlUwzVNslYpARwk68dTFDp"
       }
      }
     },
     "output_type":"display_data"
    },
    {
     "data":{
      "application\/vnd.jupyter.widget-view+json":{
       "version_major":2,
       "version_minor":0,
       "model_id":"413696be171a45ff9f66be9e49e3ca6a"
      }
     },
     "metadata":{
      "application\/vnd.jupyter.widget-view+json":{
       "datalore":{
        "widget_id":"qmnJKxGdMFPnHppuTSZtB8"
       }
      }
     },
     "output_type":"display_data"
    },
    {
     "data":{
      "application\/vnd.jupyter.widget-view+json":{
       "version_major":2,
       "version_minor":0,
       "model_id":"4af3fa20d36e49fc8d865d41237e6948"
      }
     },
     "metadata":{
      "application\/vnd.jupyter.widget-view+json":{
       "datalore":{
        "widget_id":"EoXjFZa0Xq8ES5VembggAH"
       }
      }
     },
     "output_type":"display_data"
    },
    {
     "data":{
      "application\/vnd.jupyter.widget-view+json":{
       "version_major":2,
       "version_minor":0,
       "model_id":"637ff30e66bd453e86751760b6218ce3"
      }
     },
     "metadata":{
      "application\/vnd.jupyter.widget-view+json":{
       "datalore":{
        "widget_id":"0sPKm90qKjKGwBVU9kcMpf"
       }
      }
     },
     "output_type":"display_data"
    },
    {
     "data":{
      "application\/vnd.jupyter.widget-view+json":{
       "version_major":2,
       "version_minor":0,
       "model_id":"499e6ee39ddd4b8b965e5b54579032da"
      }
     },
     "metadata":{
      "application\/vnd.jupyter.widget-view+json":{
       "datalore":{
        "widget_id":"CCRVeLZ0nP1Ki8fUnZjm84"
       }
      }
     },
     "output_type":"display_data"
    },
    {
     "data":{
      "application\/vnd.jupyter.widget-view+json":{
       "version_major":2,
       "version_minor":0,
       "model_id":"d8c1b56484b341989dfbaf28409c2d8a"
      }
     },
     "metadata":{
      "application\/vnd.jupyter.widget-view+json":{
       "datalore":{
        "widget_id":"OKRk3c5fvGoNkaxeOTrubI"
       }
      }
     },
     "output_type":"display_data"
    },
    {
     "data":{
      "application\/vnd.jupyter.widget-view+json":{
       "version_major":2,
       "version_minor":0,
       "model_id":"d377d985f68e43949f694585ba3f1bc2"
      }
     },
     "metadata":{
      "application\/vnd.jupyter.widget-view+json":{
       "datalore":{
        "widget_id":"1uHT3fOfGCKG6T8WnS476j"
       }
      }
     },
     "output_type":"display_data"
    }
   ],
   "metadata":{
    "datalore":{
     "node_id":"lpvUrISrLeAFwjCoVjiLsL",
     "type":"CODE",
     "hide_input_from_viewers":true,
     "hide_output_from_viewers":true
    }
   }
  },
  {
   "cell_type":"code",
   "source":[
    "train_examples_batch, train_labels_batch = next(iter(train_data.batch(10)))\n",
    "train_examples_batch"
   ],
   "execution_count":5,
   "outputs":[
    {
     "data":{
      "text\/plain":[
       "<tf.Tensor: shape=(10,), dtype=string, numpy=\n",
       "array([b\"This was an absolutely terrible movie. Don't be lured in by Christopher Walken or Michael Ironside. Both are great actors, but this must simply be their worst role in history. Even their great acting could not redeem this movie's ridiculous storyline. This movie is an early nineties US propaganda piece. The most pathetic scenes were those when the Columbian rebels were making their cases for revolutions. Maria Conchita Alonso appeared phony, and her pseudo-love affair with Walken was nothing but a pathetic emotional plug in a movie that was devoid of any real meaning. I am disappointed that there are movies like this, ruining actor's like Christopher Walken's good name. I could barely sit through it.\",\n",
       "       b'I have been known to fall asleep during films, but this is usually due to a combination of things including, really tired, being warm and comfortable on the sette and having just eaten a lot. However on this occasion I fell asleep because the film was rubbish. The plot development was constant. Constantly slow and boring. Things seemed to happen, but with no explanation of what was causing them or why. I admit, I may have missed part of the film, but i watched the majority of it and everything just seemed to happen of its own accord without any real concern for anything else. I cant recommend this film at all.',\n",
       "       b'Mann photographs the Alberta Rocky Mountains in a superb fashion, and Jimmy Stewart and Walter Brennan give enjoyable performances as they always seem to do. <br \/><br \/>But come on Hollywood - a Mountie telling the people of Dawson City, Yukon to elect themselves a marshal (yes a marshal!) and to enforce the law themselves, then gunfighters battling it out on the streets for control of the town? <br \/><br \/>Nothing even remotely resembling that happened on the Canadian side of the border during the Klondike gold rush. Mr. Mann and company appear to have mistaken Dawson City for Deadwood, the Canadian North for the American Wild West.<br \/><br \/>Canadian viewers be prepared for a Reefer Madness type of enjoyable howl with this ludicrous plot, or, to shake your head in disgust.',\n",
       "       b'This is the kind of film for a snowy Sunday afternoon when the rest of the world can go ahead with its own business as you descend into a big arm-chair and mellow for a couple of hours. Wonderful performances from Cher and Nicolas Cage (as always) gently row the plot along. There are no rapids to cross, no dangerous waters, just a warm and witty paddle through New York life at its best. A family film in every sense and one that deserves the praise it received.',\n",
       "       b'As others have mentioned, all the women that go nude in this film are mostly absolutely gorgeous. The plot very ably shows the hypocrisy of the female libido. When men are around they want to be pursued, but when no \"men\" are around, they become the pursuers of a 14 year old boy. And the boy becomes a man really fast (we should all be so lucky at this age!). He then gets up the courage to pursue his true love.',\n",
       "       b\"This is a film which should be seen by anybody interested in, effected by, or suffering from an eating disorder. It is an amazingly accurate and sensitive portrayal of bulimia in a teenage girl, its causes and its symptoms. The girl is played by one of the most brilliant young actresses working in cinema today, Alison Lohman, who was later so spectacular in 'Where the Truth Lies'. I would recommend that this film be shown in all schools, as you will never see a better on this subject. Alison Lohman is absolutely outstanding, and one marvels at her ability to convey the anguish of a girl suffering from this compulsive disorder. If barometers tell us the air pressure, Alison Lohman tells us the emotional pressure with the same degree of accuracy. Her emotional range is so precise, each scene could be measured microscopically for its gradations of trauma, on a scale of rising hysteria and desperation which reaches unbearable intensity. Mare Winningham is the perfect choice to play her mother, and does so with immense sympathy and a range of emotions just as finely tuned as Lohman's. Together, they make a pair of sensitive emotional oscillators vibrating in resonance with one another. This film is really an astonishing achievement, and director Katt Shea should be proud of it. The only reason for not seeing it is if you are not interested in people. But even if you like nature films best, this is after all animal behaviour at the sharp edge. Bulimia is an extreme version of how a tormented soul can destroy her own body in a frenzy of despair. And if we don't sympathise with people suffering from the depths of despair, then we are dead inside.\",\n",
       "       b'Okay, you have:<br \/><br \/>Penelope Keith as Miss Herringbone-Tweed, B.B.E. (Backbone of England.) She\\'s killed off in the first scene - that\\'s right, folks; this show has no backbone!<br \/><br \/>Peter O\\'Toole as Ol\\' Colonel Cricket from The First War and now the emblazered Lord of the Manor.<br \/><br \/>Joanna Lumley as the ensweatered Lady of the Manor, 20 years younger than the colonel and 20 years past her own prime but still glamourous (Brit spelling, not mine) enough to have a toy-boy on the side. It\\'s alright, they have Col. Cricket\\'s full knowledge and consent (they guy even comes \\'round for Christmas!) Still, she\\'s considerate of the colonel enough to have said toy-boy her own age (what a gal!)<br \/><br \/>David McCallum as said toy-boy, equally as pointlessly glamourous as his squeeze. Pilcher couldn\\'t come up with any cover for him within the story, so she gave him a hush-hush job at the Circus.<br \/><br \/>and finally:<br \/><br \/>Susan Hampshire as Miss Polonia Teacups, Venerable Headmistress of the Venerable Girls\\' Boarding-School, serving tea in her office with a dash of deep, poignant advice for life in the outside world just before graduation. Her best bit of advice: \"I\\'ve only been to Nancherrow (the local Stately Home of England) once. I thought it was very beautiful but, somehow, not part of the real world.\" Well, we can\\'t say they didn\\'t warn us.<br \/><br \/>Ah, Susan - time was, your character would have been running the whole show. They don\\'t write \\'em like that any more. Our loss, not yours.<br \/><br \/>So - with a cast and setting like this, you have the re-makings of \"Brideshead Revisited,\" right?<br \/><br \/>Wrong! They took these 1-dimensional supporting roles because they paid so well. After all, acting is one of the oldest temp-jobs there is (YOU name another!)<br \/><br \/>First warning sign: lots and lots of backlighting. They get around it by shooting outdoors - \"hey, it\\'s just the sunlight!\"<br \/><br \/>Second warning sign: Leading Lady cries a lot. When not crying, her eyes are moist. That\\'s the law of romance novels: Leading Lady is \"dewy-eyed.\"<br \/><br \/>Henceforth, Leading Lady shall be known as L.L.<br \/><br \/>Third warning sign: L.L. actually has stars in her eyes when she\\'s in love. Still, I\\'ll give Emily Mortimer an award just for having to act with that spotlight in her eyes (I wonder . did they use contacts?)<br \/><br \/>And lastly, fourth warning sign: no on-screen female character is \"Mrs.\" She\\'s either \"Miss\" or \"Lady.\"<br \/><br \/>When all was said and done, I still couldn\\'t tell you who was pursuing whom and why. I couldn\\'t even tell you what was said and done.<br \/><br \/>To sum up: they all live through World War II without anything happening to them at all.<br \/><br \/>OK, at the end, L.L. finds she\\'s lost her parents to the Japanese prison camps and baby sis comes home catatonic. Meanwhile (there\\'s always a \"meanwhile,\") some young guy L.L. had a crush on (when, I don\\'t know) comes home from some wartime tough spot and is found living on the street by Lady of the Manor (must be some street if SHE\\'s going to find him there.) Both war casualties are whisked away to recover at Nancherrow (SOMEBODY has to be \"whisked away\" SOMEWHERE in these romance stories!)<br \/><br \/>Great drama.',\n",
       "       b'The film is based on a genuine 1950s novel.<br \/><br \/>Journalist Colin McInnes wrote a set of three \"London novels\": \"Absolute Beginners\", \"City of Spades\" and \"Mr Love and Justice\". I have read all three. The first two are excellent. The last, perhaps an experiment that did not come off. But McInnes\\'s work is highly acclaimed; and rightly so. This musical is the novelist\\'s ultimate nightmare - to see the fruits of one\\'s mind being turned into a glitzy, badly-acted, soporific one-dimensional apology of a film that says it captures the spirit of 1950s London, and does nothing of the sort.<br \/><br \/>Thank goodness Colin McInnes wasn\\'t alive to witness it.',\n",
       "       b'I really love the sexy action and sci-fi films of the sixties and its because of the actress\\'s that appeared in them. They found the sexiest women to be in these films and it didn\\'t matter if they could act (Remember \"Candy\"?). The reason I was disappointed by this film was because it wasn\\'t nostalgic enough. The story here has a European sci-fi film called \"Dragonfly\" being made and the director is fired. So the producers decide to let a young aspiring filmmaker (Jeremy Davies) to complete the picture. They\\'re is one real beautiful woman in the film who plays Dragonfly but she\\'s barely in it. Film is written and directed by Roman Coppola who uses some of his fathers exploits from his early days and puts it into the script. I wish the film could have been an homage to those early films. They could have lots of cameos by actors who appeared in them. There is one actor in this film who was popular from the sixties and its John Phillip Law (Barbarella). Gerard Depardieu, Giancarlo Giannini and Dean Stockwell appear as well. I guess I\\'m going to have to continue waiting for a director to make a good homage to the films of the sixties. If any are reading this, \"Make it as sexy as you can\"! I\\'ll be waiting!',\n",
       "       b'Sure, this one isn\\'t really a blockbuster, nor does it target such a position. \"Dieter\" is the first name of a quite popular German musician, who is either loved or hated for his kind of acting and thats exactly what this movie is about. It is based on the autobiography \"Dieter Bohlen\" wrote a few years ago but isn\\'t meant to be accurate on that. The movie is filled with some sexual offensive content (at least for American standard) which is either amusing (not for the other \"actors\" of course) or dumb - it depends on your individual kind of humor or on you being a \"Bohlen\"-Fan or not. Technically speaking there isn\\'t much to criticize. Speaking of me I find this movie to be an OK-movie.'],\n",
       "      dtype=object)>"
      ]
     },
     "metadata":{
      
     },
     "output_type":"display_data"
    }
   ],
   "metadata":{
    "datalore":{
     "node_id":"YTHVrRFwgvKicbRiRwEk36",
     "type":"CODE",
     "hide_input_from_viewers":true,
     "hide_output_from_viewers":true
    }
   }
  },
  {
   "cell_type":"code",
   "source":[
    "train_labels_batch"
   ],
   "execution_count":6,
   "outputs":[
    {
     "data":{
      "text\/plain":[
       "<tf.Tensor: shape=(10,), dtype=int64, numpy=array([0, 0, 0, 1, 1, 1, 0, 0, 0, 0])>"
      ]
     },
     "metadata":{
      
     },
     "output_type":"display_data"
    }
   ],
   "metadata":{
    "datalore":{
     "node_id":"qRDObVMc1bLYuAbO6xUZ3g",
     "type":"CODE",
     "hide_input_from_viewers":true,
     "hide_output_from_viewers":true
    }
   }
  },
  {
   "cell_type":"code",
   "source":[
    "embedding  = \"https:\/\/tfhub.dev\/google\/nnlm-en-dim50\/2\"\n",
    "hub_layer = hub.KerasLayer(embedding,input_shape=[],\n",
    "                           dtype=tf.string, trainable=True)\n",
    "hub_layer(train_examples_batch[:3])"
   ],
   "execution_count":8,
   "outputs":[
    {
     "data":{
      "text\/plain":[
       "<tf.Tensor: shape=(3, 50), dtype=float32, numpy=\n",
       "array([[ 0.5423195 , -0.0119017 ,  0.06337538,  0.06862972, -0.16776837,\n",
       "        -0.10581174,  0.16865303, -0.04998824, -0.31148055,  0.07910346,\n",
       "         0.15442263,  0.01488662,  0.03930153,  0.19772711, -0.12215476,\n",
       "        -0.04120981, -0.2704109 , -0.21922152,  0.26517662, -0.80739075,\n",
       "         0.25833532, -0.3100421 ,  0.28683215,  0.1943387 , -0.29036492,\n",
       "         0.03862849, -0.7844411 , -0.0479324 ,  0.4110299 , -0.36388892,\n",
       "        -0.58034706,  0.30269456,  0.3630897 , -0.15227164, -0.44391504,\n",
       "         0.19462997,  0.19528408,  0.05666234,  0.2890704 , -0.28468323,\n",
       "        -0.00531206,  0.0571938 , -0.3201318 , -0.04418665, -0.08550783,\n",
       "        -0.55847436, -0.23336391, -0.20782952, -0.03543064, -0.17533456],\n",
       "       [ 0.56338924, -0.12339553, -0.10862679,  0.7753425 , -0.07667089,\n",
       "        -0.15752277,  0.01872335, -0.08169781, -0.3521876 ,  0.4637341 ,\n",
       "        -0.08492756,  0.07166859, -0.00670817,  0.12686075, -0.19326553,\n",
       "        -0.52626437, -0.3295823 ,  0.14394785,  0.09043556, -0.5417555 ,\n",
       "         0.02468163, -0.15456742,  0.68333143,  0.09068331, -0.45327246,\n",
       "         0.23180096, -0.8615696 ,  0.34480393,  0.12838456, -0.58759046,\n",
       "        -0.4071231 ,  0.23061076,  0.48426893, -0.27128142, -0.5380916 ,\n",
       "         0.47016326,  0.22572741, -0.00830663,  0.2846242 , -0.304985  ,\n",
       "         0.04400365,  0.25025874,  0.14867121,  0.40717036, -0.15422426,\n",
       "        -0.06878027, -0.40825695, -0.3149215 ,  0.09283665, -0.20183425],\n",
       "       [ 0.7456154 ,  0.21256861,  0.14400336,  0.5233862 ,  0.11032254,\n",
       "         0.00902788, -0.3667802 , -0.08938274, -0.24165542,  0.33384594,\n",
       "        -0.11194605, -0.01460047, -0.0071645 ,  0.19562712,  0.00685216,\n",
       "        -0.24886718, -0.42796347,  0.18620004, -0.05241098, -0.66462487,\n",
       "         0.13449019, -0.22205497,  0.08633006,  0.43685386,  0.2972681 ,\n",
       "         0.36140734, -0.7196889 ,  0.05291241, -0.14316116, -0.1573394 ,\n",
       "        -0.15056328, -0.05988009, -0.08178931, -0.15569411, -0.09303783,\n",
       "        -0.18971172,  0.07620788, -0.02541647, -0.27134508, -0.3392682 ,\n",
       "        -0.10296468, -0.27275252, -0.34078008,  0.20083304, -0.26644835,\n",
       "         0.00655449, -0.05141488, -0.04261917, -0.45413622,  0.20023568]],\n",
       "      dtype=float32)>"
      ]
     },
     "metadata":{
      
     },
     "output_type":"display_data"
    }
   ],
   "metadata":{
    "datalore":{
     "node_id":"RinXavddDUvx05qLSPszDS",
     "type":"CODE",
     "hide_input_from_viewers":true,
     "hide_output_from_viewers":true
    }
   }
  },
  {
   "cell_type":"code",
   "source":[
    "model = tf.keras.Sequential()\n",
    "model.add(hub_layer)\n",
    "model.add(tf.keras.layers.Dense(16,activation='relu'))\n",
    "model.add(tf.keras.layers.Dense(1))\n",
    "\n",
    "model.summary()"
   ],
   "execution_count":9,
   "outputs":[
    {
     "name":"stdout",
     "text":[
      "Model: \"sequential\"\n",
      "_________________________________________________________________\n",
      " Layer (type)                Output Shape              Param #   \n",
      "=================================================================\n",
      " keras_layer (KerasLayer)    (None, 50)                48190600  \n",
      "                                                                 \n",
      " dense (Dense)               (None, 16)                816       \n",
      "                                                                 \n",
      " dense_1 (Dense)             (None, 1)                 17        \n",
      "                                                                 \n",
      "=================================================================\n",
      "Total params: 48,191,433\n",
      "Trainable params: 48,191,433\n",
      "Non-trainable params: 0\n",
      "_________________________________________________________________\n"
     ],
     "output_type":"stream"
    }
   ],
   "metadata":{
    "datalore":{
     "node_id":"3rg6P4xflhuRWdUzekz2HM",
     "type":"CODE",
     "hide_input_from_viewers":true,
     "hide_output_from_viewers":true
    }
   }
  },
  {
   "cell_type":"code",
   "source":[
    "model.compile(optimizer='adam',\n",
    "              loss=tf.keras.losses.BinaryCrossentropy(from_logits=True),\n",
    "              metrics=['accuracy'])"
   ],
   "execution_count":11,
   "outputs":[
    
   ],
   "metadata":{
    "datalore":{
     "node_id":"kJgzjMQflMCQbgSEwr2POD",
     "type":"CODE",
     "hide_input_from_viewers":true,
     "hide_output_from_viewers":true
    }
   }
  }
 ],
 "metadata":{
  "widgets":{
   "application\/vnd.jupyter.widget-state+json":{
    "version_major":2,
    "version_minor":0,
    "state":{
     "c25aceed57704544ba638172910152d3":{
      "model_name":"LayoutModel",
      "model_module":"@jupyter-widgets\/base",
      "model_module_version":"1.2.0",
      "state":{
       
      }
     },
     "a6d437b78b044041a6e289f90349470e":{
      "model_name":"DescriptionStyleModel",
      "model_module":"@jupyter-widgets\/controls",
      "model_module_version":"1.5.0",
      "state":{
       "description_width":""
      }
     },
     "fd755e2d526b40e581e490ac0ae9cbb0":{
      "model_name":"HTMLModel",
      "model_module":"@jupyter-widgets\/controls",
      "model_module_version":"1.5.0",
      "state":{
       "layout":"IPY_MODEL_c25aceed57704544ba638172910152d3",
       "style":"IPY_MODEL_a6d437b78b044041a6e289f90349470e",
       "value":"Dl Completed...: 100%"
      }
     },
     "86b3f1e3a8f44d2b8ec45ed1ba797eb8":{
      "model_name":"LayoutModel",
      "model_module":"@jupyter-widgets\/base",
      "model_module_version":"1.2.0",
      "state":{
       "width":"20px"
      }
     },
     "b73c889dd0b24677b4a9a11eab7f5378":{
      "model_name":"ProgressStyleModel",
      "model_module":"@jupyter-widgets\/controls",
      "model_module_version":"1.5.0",
      "state":{
       "description_width":""
      }
     },
     "59f2b9964302452682de54c199fdb03c":{
      "model_name":"FloatProgressModel",
      "model_module":"@jupyter-widgets\/controls",
      "model_module_version":"1.5.0",
      "state":{
       "bar_style":"success",
       "layout":"IPY_MODEL_86b3f1e3a8f44d2b8ec45ed1ba797eb8",
       "max":1,
       "style":"IPY_MODEL_b73c889dd0b24677b4a9a11eab7f5378",
       "value":1
      }
     },
     "abfe40ab39b34bd8aa0f86481d8b1deb":{
      "model_name":"LayoutModel",
      "model_module":"@jupyter-widgets\/base",
      "model_module_version":"1.2.0",
      "state":{
       
      }
     },
     "9d90dce11d49496c90129848424f7914":{
      "model_name":"DescriptionStyleModel",
      "model_module":"@jupyter-widgets\/controls",
      "model_module_version":"1.5.0",
      "state":{
       "description_width":""
      }
     },
     "faed885970764d25b839b5eabf1b32fe":{
      "model_name":"HTMLModel",
      "model_module":"@jupyter-widgets\/controls",
      "model_module_version":"1.5.0",
      "state":{
       "layout":"IPY_MODEL_abfe40ab39b34bd8aa0f86481d8b1deb",
       "style":"IPY_MODEL_9d90dce11d49496c90129848424f7914",
       "value":" 1\/1 [00:14&lt;00:00, 14.17s\/ url]"
      }
     },
     "5c752db0a9b94a109ead730d7558a92c":{
      "model_name":"LayoutModel",
      "model_module":"@jupyter-widgets\/base",
      "model_module_version":"1.2.0",
      "state":{
       
      }
     },
     "5978b75a15e34bc79a653c615d5daaa9":{
      "model_name":"HBoxModel",
      "model_module":"@jupyter-widgets\/controls",
      "model_module_version":"1.5.0",
      "state":{
       "children":[
        "IPY_MODEL_fd755e2d526b40e581e490ac0ae9cbb0",
        "IPY_MODEL_59f2b9964302452682de54c199fdb03c",
        "IPY_MODEL_faed885970764d25b839b5eabf1b32fe"
       ],
       "layout":"IPY_MODEL_5c752db0a9b94a109ead730d7558a92c"
      }
     },
     "8e76e02581184ddf804092f96d0eeaa4":{
      "model_name":"LayoutModel",
      "model_module":"@jupyter-widgets\/base",
      "model_module_version":"1.2.0",
      "state":{
       
      }
     },
     "7bdd32d3f1d24b3eae8a4bed950b3756":{
      "model_name":"DescriptionStyleModel",
      "model_module":"@jupyter-widgets\/controls",
      "model_module_version":"1.5.0",
      "state":{
       "description_width":""
      }
     },
     "0b44df9e6a004e8bb03d5384684c437c":{
      "model_name":"HTMLModel",
      "model_module":"@jupyter-widgets\/controls",
      "model_module_version":"1.5.0",
      "state":{
       "layout":"IPY_MODEL_8e76e02581184ddf804092f96d0eeaa4",
       "style":"IPY_MODEL_7bdd32d3f1d24b3eae8a4bed950b3756",
       "value":"Dl Size...: 100%"
      }
     },
     "794094e56a1347029f8c603b82e3b518":{
      "model_name":"LayoutModel",
      "model_module":"@jupyter-widgets\/base",
      "model_module_version":"1.2.0",
      "state":{
       "width":"20px"
      }
     },
     "bd053cb925584ee386c834f7a731d81f":{
      "model_name":"ProgressStyleModel",
      "model_module":"@jupyter-widgets\/controls",
      "model_module_version":"1.5.0",
      "state":{
       "description_width":""
      }
     },
     "cefe17feafb14f64b953385adc32e4e3":{
      "model_name":"FloatProgressModel",
      "model_module":"@jupyter-widgets\/controls",
      "model_module_version":"1.5.0",
      "state":{
       "bar_style":"success",
       "layout":"IPY_MODEL_794094e56a1347029f8c603b82e3b518",
       "max":1,
       "style":"IPY_MODEL_bd053cb925584ee386c834f7a731d81f",
       "value":1
      }
     },
     "95fba145dd604dc996873b7e6bdaa918":{
      "model_name":"LayoutModel",
      "model_module":"@jupyter-widgets\/base",
      "model_module_version":"1.2.0",
      "state":{
       
      }
     },
     "ef90f22869e941a5b0a56df877f6a436":{
      "model_name":"DescriptionStyleModel",
      "model_module":"@jupyter-widgets\/controls",
      "model_module_version":"1.5.0",
      "state":{
       "description_width":""
      }
     },
     "360b9d0194df4199a153328616d13ae0":{
      "model_name":"HTMLModel",
      "model_module":"@jupyter-widgets\/controls",
      "model_module_version":"1.5.0",
      "state":{
       "layout":"IPY_MODEL_95fba145dd604dc996873b7e6bdaa918",
       "style":"IPY_MODEL_ef90f22869e941a5b0a56df877f6a436",
       "value":" 80\/80 [00:14&lt;00:00, 10.82 MiB\/s]"
      }
     },
     "d492036a837b47448c714ab91140759a":{
      "model_name":"LayoutModel",
      "model_module":"@jupyter-widgets\/base",
      "model_module_version":"1.2.0",
      "state":{
       
      }
     },
     "4715f8e4159d4d5ea2f910098a00def2":{
      "model_name":"HBoxModel",
      "model_module":"@jupyter-widgets\/controls",
      "model_module_version":"1.5.0",
      "state":{
       "children":[
        "IPY_MODEL_0b44df9e6a004e8bb03d5384684c437c",
        "IPY_MODEL_cefe17feafb14f64b953385adc32e4e3",
        "IPY_MODEL_360b9d0194df4199a153328616d13ae0"
       ],
       "layout":"IPY_MODEL_d492036a837b47448c714ab91140759a"
      }
     },
     "f43aa443c9684e89a0133d3280b2c07f":{
      "model_name":"LayoutModel",
      "model_module":"@jupyter-widgets\/base",
      "model_module_version":"1.2.0",
      "state":{
       
      }
     },
     "99cb1e35dc0c4393b99052e2cf0b8189":{
      "model_name":"DescriptionStyleModel",
      "model_module":"@jupyter-widgets\/controls",
      "model_module_version":"1.5.0",
      "state":{
       "description_width":""
      }
     },
     "223be52e97b74f309677c406a04190ba":{
      "model_name":"HTMLModel",
      "model_module":"@jupyter-widgets\/controls",
      "model_module_version":"1.5.0",
      "state":{
       "layout":"IPY_MODEL_f43aa443c9684e89a0133d3280b2c07f",
       "style":"IPY_MODEL_99cb1e35dc0c4393b99052e2cf0b8189",
       "value":"Generating splits...: 100%"
      }
     },
     "b912a35059464f51a07cedd675e3928a":{
      "model_name":"LayoutModel",
      "model_module":"@jupyter-widgets\/base",
      "model_module_version":"1.2.0",
      "state":{
       
      }
     },
     "2e725f42f7a44c4898157c866c64efa0":{
      "model_name":"ProgressStyleModel",
      "model_module":"@jupyter-widgets\/controls",
      "model_module_version":"1.5.0",
      "state":{
       "description_width":""
      }
     },
     "994a595914ff49758d605cc7a4ad614e":{
      "model_name":"FloatProgressModel",
      "model_module":"@jupyter-widgets\/controls",
      "model_module_version":"1.5.0",
      "state":{
       "layout":"IPY_MODEL_b912a35059464f51a07cedd675e3928a",
       "max":3,
       "style":"IPY_MODEL_2e725f42f7a44c4898157c866c64efa0",
       "value":3
      }
     },
     "032252859f644dd282113456c047f544":{
      "model_name":"LayoutModel",
      "model_module":"@jupyter-widgets\/base",
      "model_module_version":"1.2.0",
      "state":{
       
      }
     },
     "22f0fc9adf294d6a964cdddcf44b7df9":{
      "model_name":"DescriptionStyleModel",
      "model_module":"@jupyter-widgets\/controls",
      "model_module_version":"1.5.0",
      "state":{
       "description_width":""
      }
     },
     "d915c5dd9c324c24b0fc718b641dc78a":{
      "model_name":"HTMLModel",
      "model_module":"@jupyter-widgets\/controls",
      "model_module_version":"1.5.0",
      "state":{
       "layout":"IPY_MODEL_032252859f644dd282113456c047f544",
       "style":"IPY_MODEL_22f0fc9adf294d6a964cdddcf44b7df9",
       "value":" 3\/3 [00:50&lt;00:00, 17.59s\/ splits]"
      }
     },
     "b4973794efb041f8a438969ef5b78024":{
      "model_name":"LayoutModel",
      "model_module":"@jupyter-widgets\/base",
      "model_module_version":"1.2.0",
      "state":{
       "visibility":"hidden"
      }
     },
     "e0bc5cf4430847a6bd8684dcd35cabc8":{
      "model_name":"HBoxModel",
      "model_module":"@jupyter-widgets\/controls",
      "model_module_version":"1.5.0",
      "state":{
       "children":[
        "IPY_MODEL_223be52e97b74f309677c406a04190ba",
        "IPY_MODEL_994a595914ff49758d605cc7a4ad614e",
        "IPY_MODEL_d915c5dd9c324c24b0fc718b641dc78a"
       ],
       "layout":"IPY_MODEL_b4973794efb041f8a438969ef5b78024"
      }
     },
     "0cc79a758c8440cbbf2387dfb02428ed":{
      "model_name":"LayoutModel",
      "model_module":"@jupyter-widgets\/base",
      "model_module_version":"1.2.0",
      "state":{
       
      }
     },
     "df57abf79f1948559324d7774476246f":{
      "model_name":"DescriptionStyleModel",
      "model_module":"@jupyter-widgets\/controls",
      "model_module_version":"1.5.0",
      "state":{
       "description_width":""
      }
     },
     "2e29be65c2ce49628f41a0408d2eaa43":{
      "model_name":"HTMLModel",
      "model_module":"@jupyter-widgets\/controls",
      "model_module_version":"1.5.0",
      "state":{
       "layout":"IPY_MODEL_0cc79a758c8440cbbf2387dfb02428ed",
       "style":"IPY_MODEL_df57abf79f1948559324d7774476246f",
       "value":"Generating train examples...:  99%"
      }
     },
     "65fb55cb1800422a88a55ed56d04e56d":{
      "model_name":"LayoutModel",
      "model_module":"@jupyter-widgets\/base",
      "model_module_version":"1.2.0",
      "state":{
       
      }
     },
     "88af922b7e67489a80ef00c27f0db652":{
      "model_name":"ProgressStyleModel",
      "model_module":"@jupyter-widgets\/controls",
      "model_module_version":"1.5.0",
      "state":{
       "description_width":""
      }
     },
     "1bd8200c23b94df0903c35df4511c192":{
      "model_name":"FloatProgressModel",
      "model_module":"@jupyter-widgets\/controls",
      "model_module_version":"1.5.0",
      "state":{
       "layout":"IPY_MODEL_65fb55cb1800422a88a55ed56d04e56d",
       "max":25000,
       "style":"IPY_MODEL_88af922b7e67489a80ef00c27f0db652",
       "value":25000
      }
     },
     "3fe78ec4cf7b42a39931269a622e81cd":{
      "model_name":"LayoutModel",
      "model_module":"@jupyter-widgets\/base",
      "model_module_version":"1.2.0",
      "state":{
       
      }
     },
     "814953b54c1a42189968b406fcc6db78":{
      "model_name":"DescriptionStyleModel",
      "model_module":"@jupyter-widgets\/controls",
      "model_module_version":"1.5.0",
      "state":{
       "description_width":""
      }
     },
     "d2b83579b0b047329caf79e4ceac72f2":{
      "model_name":"HTMLModel",
      "model_module":"@jupyter-widgets\/controls",
      "model_module_version":"1.5.0",
      "state":{
       "layout":"IPY_MODEL_3fe78ec4cf7b42a39931269a622e81cd",
       "style":"IPY_MODEL_814953b54c1a42189968b406fcc6db78",
       "value":" 24667\/25000 [00:10&lt;00:00, 3522.38 examples\/s]"
      }
     },
     "7446080d383440ddae6b53e454c3a346":{
      "model_name":"LayoutModel",
      "model_module":"@jupyter-widgets\/base",
      "model_module_version":"1.2.0",
      "state":{
       "visibility":"hidden"
      }
     },
     "413696be171a45ff9f66be9e49e3ca6a":{
      "model_name":"HBoxModel",
      "model_module":"@jupyter-widgets\/controls",
      "model_module_version":"1.5.0",
      "state":{
       "children":[
        "IPY_MODEL_2e29be65c2ce49628f41a0408d2eaa43",
        "IPY_MODEL_1bd8200c23b94df0903c35df4511c192",
        "IPY_MODEL_d2b83579b0b047329caf79e4ceac72f2"
       ],
       "layout":"IPY_MODEL_7446080d383440ddae6b53e454c3a346"
      }
     },
     "9efacecdc2d947e6a8a5dba6e0a99fb9":{
      "model_name":"LayoutModel",
      "model_module":"@jupyter-widgets\/base",
      "model_module_version":"1.2.0",
      "state":{
       
      }
     },
     "6c2a9ce1a44544d2b7863e58ab30c9fd":{
      "model_name":"DescriptionStyleModel",
      "model_module":"@jupyter-widgets\/controls",
      "model_module_version":"1.5.0",
      "state":{
       "description_width":""
      }
     },
     "5b2e5132c639418cbe055bfc11d6bed3":{
      "model_name":"HTMLModel",
      "model_module":"@jupyter-widgets\/controls",
      "model_module_version":"1.5.0",
      "state":{
       "layout":"IPY_MODEL_9efacecdc2d947e6a8a5dba6e0a99fb9",
       "style":"IPY_MODEL_6c2a9ce1a44544d2b7863e58ab30c9fd",
       "value":"Shuffling \/home\/datalore\/tensorflow_datasets\/imdb_reviews\/plain_text\/1.0.0.incomplete3S2TDD\/imdb_reviews-train.tfrecord*...:  50%"
      }
     },
     "8dee094523a143f7b6956e2697713317":{
      "model_name":"LayoutModel",
      "model_module":"@jupyter-widgets\/base",
      "model_module_version":"1.2.0",
      "state":{
       
      }
     },
     "1328e61a782d4fd6a3f6066e2aba60e4":{
      "model_name":"ProgressStyleModel",
      "model_module":"@jupyter-widgets\/controls",
      "model_module_version":"1.5.0",
      "state":{
       "description_width":""
      }
     },
     "42fee248c8794b50bb758b28b6087c20":{
      "model_name":"FloatProgressModel",
      "model_module":"@jupyter-widgets\/controls",
      "model_module_version":"1.5.0",
      "state":{
       "layout":"IPY_MODEL_8dee094523a143f7b6956e2697713317",
       "max":25000,
       "style":"IPY_MODEL_1328e61a782d4fd6a3f6066e2aba60e4",
       "value":25000
      }
     },
     "0c4be596d29745b698a3bad8edda1637":{
      "model_name":"LayoutModel",
      "model_module":"@jupyter-widgets\/base",
      "model_module_version":"1.2.0",
      "state":{
       
      }
     },
     "88e5cd82487a46d4b3c691be2f4a378c":{
      "model_name":"DescriptionStyleModel",
      "model_module":"@jupyter-widgets\/controls",
      "model_module_version":"1.5.0",
      "state":{
       "description_width":""
      }
     },
     "59027c4ec5de43d9b61bbeeff8a2bc52":{
      "model_name":"HTMLModel",
      "model_module":"@jupyter-widgets\/controls",
      "model_module_version":"1.5.0",
      "state":{
       "layout":"IPY_MODEL_0c4be596d29745b698a3bad8edda1637",
       "style":"IPY_MODEL_88e5cd82487a46d4b3c691be2f4a378c",
       "value":" 12499\/25000 [00:00&lt;00:00, 124970.75 examples\/s]"
      }
     },
     "022c85638d9b48cc9de02aaea7c1e067":{
      "model_name":"LayoutModel",
      "model_module":"@jupyter-widgets\/base",
      "model_module_version":"1.2.0",
      "state":{
       "visibility":"hidden"
      }
     },
     "4af3fa20d36e49fc8d865d41237e6948":{
      "model_name":"HBoxModel",
      "model_module":"@jupyter-widgets\/controls",
      "model_module_version":"1.5.0",
      "state":{
       "children":[
        "IPY_MODEL_5b2e5132c639418cbe055bfc11d6bed3",
        "IPY_MODEL_42fee248c8794b50bb758b28b6087c20",
        "IPY_MODEL_59027c4ec5de43d9b61bbeeff8a2bc52"
       ],
       "layout":"IPY_MODEL_022c85638d9b48cc9de02aaea7c1e067"
      }
     },
     "c0f4d93c3027412a950453a612d5be7a":{
      "model_name":"LayoutModel",
      "model_module":"@jupyter-widgets\/base",
      "model_module_version":"1.2.0",
      "state":{
       
      }
     },
     "9060f0bd41af41b58178d823e820dc84":{
      "model_name":"DescriptionStyleModel",
      "model_module":"@jupyter-widgets\/controls",
      "model_module_version":"1.5.0",
      "state":{
       "description_width":""
      }
     },
     "93e46a059d374b4aaa61462c493893e6":{
      "model_name":"HTMLModel",
      "model_module":"@jupyter-widgets\/controls",
      "model_module_version":"1.5.0",
      "state":{
       "layout":"IPY_MODEL_c0f4d93c3027412a950453a612d5be7a",
       "style":"IPY_MODEL_9060f0bd41af41b58178d823e820dc84",
       "value":"Generating test examples...:  99%"
      }
     },
     "6723e8a801584678b05ea18a8605c922":{
      "model_name":"LayoutModel",
      "model_module":"@jupyter-widgets\/base",
      "model_module_version":"1.2.0",
      "state":{
       
      }
     },
     "e987d3a7454647e98668fb15562c672c":{
      "model_name":"ProgressStyleModel",
      "model_module":"@jupyter-widgets\/controls",
      "model_module_version":"1.5.0",
      "state":{
       "description_width":""
      }
     },
     "9b1786c8fb2c43e6b7c097d9c19bd577":{
      "model_name":"FloatProgressModel",
      "model_module":"@jupyter-widgets\/controls",
      "model_module_version":"1.5.0",
      "state":{
       "layout":"IPY_MODEL_6723e8a801584678b05ea18a8605c922",
       "max":25000,
       "style":"IPY_MODEL_e987d3a7454647e98668fb15562c672c",
       "value":25000
      }
     },
     "93e4286ce74d4a15952dc93dc3f56aba":{
      "model_name":"LayoutModel",
      "model_module":"@jupyter-widgets\/base",
      "model_module_version":"1.2.0",
      "state":{
       
      }
     },
     "05ae9e9b020e4b1ba08061e46c956c04":{
      "model_name":"DescriptionStyleModel",
      "model_module":"@jupyter-widgets\/controls",
      "model_module_version":"1.5.0",
      "state":{
       "description_width":""
      }
     },
     "46f2e617c7d94b1bba0663171c8c9b79":{
      "model_name":"HTMLModel",
      "model_module":"@jupyter-widgets\/controls",
      "model_module_version":"1.5.0",
      "state":{
       "layout":"IPY_MODEL_93e4286ce74d4a15952dc93dc3f56aba",
       "style":"IPY_MODEL_05ae9e9b020e4b1ba08061e46c956c04",
       "value":" 24750\/25000 [00:07&lt;00:00, 3546.48 examples\/s]"
      }
     },
     "1befa764f7c94d829ae50bc587aa1f61":{
      "model_name":"LayoutModel",
      "model_module":"@jupyter-widgets\/base",
      "model_module_version":"1.2.0",
      "state":{
       "visibility":"hidden"
      }
     },
     "637ff30e66bd453e86751760b6218ce3":{
      "model_name":"HBoxModel",
      "model_module":"@jupyter-widgets\/controls",
      "model_module_version":"1.5.0",
      "state":{
       "children":[
        "IPY_MODEL_93e46a059d374b4aaa61462c493893e6",
        "IPY_MODEL_9b1786c8fb2c43e6b7c097d9c19bd577",
        "IPY_MODEL_46f2e617c7d94b1bba0663171c8c9b79"
       ],
       "layout":"IPY_MODEL_1befa764f7c94d829ae50bc587aa1f61"
      }
     },
     "fd3ab5647a7f4fa0964b586b7c6fcacc":{
      "model_name":"LayoutModel",
      "model_module":"@jupyter-widgets\/base",
      "model_module_version":"1.2.0",
      "state":{
       
      }
     },
     "1106299ad4ac40419cf3ddeeb5821e29":{
      "model_name":"DescriptionStyleModel",
      "model_module":"@jupyter-widgets\/controls",
      "model_module_version":"1.5.0",
      "state":{
       "description_width":""
      }
     },
     "1c3c505279d24bf99c3092a045686823":{
      "model_name":"HTMLModel",
      "model_module":"@jupyter-widgets\/controls",
      "model_module_version":"1.5.0",
      "state":{
       "layout":"IPY_MODEL_fd3ab5647a7f4fa0964b586b7c6fcacc",
       "style":"IPY_MODEL_1106299ad4ac40419cf3ddeeb5821e29",
       "value":"Shuffling \/home\/datalore\/tensorflow_datasets\/imdb_reviews\/plain_text\/1.0.0.incomplete3S2TDD\/imdb_reviews-test.tfrecord*...:  50%"
      }
     },
     "47b35391848343abaff1ff9434e49f96":{
      "model_name":"LayoutModel",
      "model_module":"@jupyter-widgets\/base",
      "model_module_version":"1.2.0",
      "state":{
       
      }
     },
     "a93ffff715194f029fcfca21c32cbbd3":{
      "model_name":"ProgressStyleModel",
      "model_module":"@jupyter-widgets\/controls",
      "model_module_version":"1.5.0",
      "state":{
       "description_width":""
      }
     },
     "0003afd5f3ff45b2abcd7a4794b97474":{
      "model_name":"FloatProgressModel",
      "model_module":"@jupyter-widgets\/controls",
      "model_module_version":"1.5.0",
      "state":{
       "layout":"IPY_MODEL_47b35391848343abaff1ff9434e49f96",
       "max":25000,
       "style":"IPY_MODEL_a93ffff715194f029fcfca21c32cbbd3",
       "value":25000
      }
     },
     "a7b86b7c360642088dac281d4c88e6ac":{
      "model_name":"LayoutModel",
      "model_module":"@jupyter-widgets\/base",
      "model_module_version":"1.2.0",
      "state":{
       
      }
     },
     "d23c4e1beebc4b50bcc309c7fad01ab7":{
      "model_name":"DescriptionStyleModel",
      "model_module":"@jupyter-widgets\/controls",
      "model_module_version":"1.5.0",
      "state":{
       "description_width":""
      }
     },
     "378b6ae31a9d497f8d3f88e29616f3fa":{
      "model_name":"HTMLModel",
      "model_module":"@jupyter-widgets\/controls",
      "model_module_version":"1.5.0",
      "state":{
       "layout":"IPY_MODEL_a7b86b7c360642088dac281d4c88e6ac",
       "style":"IPY_MODEL_d23c4e1beebc4b50bcc309c7fad01ab7",
       "value":" 12578\/25000 [00:00&lt;00:00, 125756.73 examples\/s]"
      }
     },
     "b9b08e666632477aa8b11a90e272c4ff":{
      "model_name":"LayoutModel",
      "model_module":"@jupyter-widgets\/base",
      "model_module_version":"1.2.0",
      "state":{
       "visibility":"hidden"
      }
     },
     "499e6ee39ddd4b8b965e5b54579032da":{
      "model_name":"HBoxModel",
      "model_module":"@jupyter-widgets\/controls",
      "model_module_version":"1.5.0",
      "state":{
       "children":[
        "IPY_MODEL_1c3c505279d24bf99c3092a045686823",
        "IPY_MODEL_0003afd5f3ff45b2abcd7a4794b97474",
        "IPY_MODEL_378b6ae31a9d497f8d3f88e29616f3fa"
       ],
       "layout":"IPY_MODEL_b9b08e666632477aa8b11a90e272c4ff"
      }
     },
     "1530c15427bd4f228aef3b5c0ad1b394":{
      "model_name":"LayoutModel",
      "model_module":"@jupyter-widgets\/base",
      "model_module_version":"1.2.0",
      "state":{
       
      }
     },
     "29c1a67ba0cf4761acf91a3b9b73aff8":{
      "model_name":"DescriptionStyleModel",
      "model_module":"@jupyter-widgets\/controls",
      "model_module_version":"1.5.0",
      "state":{
       "description_width":""
      }
     },
     "cea553dbd34e4826ba8e023d5a2d99bb":{
      "model_name":"HTMLModel",
      "model_module":"@jupyter-widgets\/controls",
      "model_module_version":"1.5.0",
      "state":{
       "layout":"IPY_MODEL_1530c15427bd4f228aef3b5c0ad1b394",
       "style":"IPY_MODEL_29c1a67ba0cf4761acf91a3b9b73aff8",
       "value":"Generating unsupervised examples...:  99%"
      }
     },
     "ac1e3cc514d14a0eab806e608d16d76f":{
      "model_name":"LayoutModel",
      "model_module":"@jupyter-widgets\/base",
      "model_module_version":"1.2.0",
      "state":{
       
      }
     },
     "8e530c30a95248d18859e2d9e04b2b61":{
      "model_name":"ProgressStyleModel",
      "model_module":"@jupyter-widgets\/controls",
      "model_module_version":"1.5.0",
      "state":{
       "description_width":""
      }
     },
     "4a51eea5475740849e12d6297c60a777":{
      "model_name":"FloatProgressModel",
      "model_module":"@jupyter-widgets\/controls",
      "model_module_version":"1.5.0",
      "state":{
       "layout":"IPY_MODEL_ac1e3cc514d14a0eab806e608d16d76f",
       "max":50000,
       "style":"IPY_MODEL_8e530c30a95248d18859e2d9e04b2b61",
       "value":50000
      }
     },
     "0bccd3877136454e8853e0543a03eb52":{
      "model_name":"LayoutModel",
      "model_module":"@jupyter-widgets\/base",
      "model_module_version":"1.2.0",
      "state":{
       
      }
     },
     "ca449e526ae5479db656ba3d70bec3b7":{
      "model_name":"DescriptionStyleModel",
      "model_module":"@jupyter-widgets\/controls",
      "model_module_version":"1.5.0",
      "state":{
       "description_width":""
      }
     },
     "2fba8d1696d54a1a98df3c3c93ef8192":{
      "model_name":"HTMLModel",
      "model_module":"@jupyter-widgets\/controls",
      "model_module_version":"1.5.0",
      "state":{
       "layout":"IPY_MODEL_0bccd3877136454e8853e0543a03eb52",
       "style":"IPY_MODEL_ca449e526ae5479db656ba3d70bec3b7",
       "value":" 49669\/50000 [00:19&lt;00:00, 2897.38 examples\/s]"
      }
     },
     "3f81f903aa49479f9ac5edae0987e8c1":{
      "model_name":"LayoutModel",
      "model_module":"@jupyter-widgets\/base",
      "model_module_version":"1.2.0",
      "state":{
       "visibility":"hidden"
      }
     },
     "d8c1b56484b341989dfbaf28409c2d8a":{
      "model_name":"HBoxModel",
      "model_module":"@jupyter-widgets\/controls",
      "model_module_version":"1.5.0",
      "state":{
       "children":[
        "IPY_MODEL_cea553dbd34e4826ba8e023d5a2d99bb",
        "IPY_MODEL_4a51eea5475740849e12d6297c60a777",
        "IPY_MODEL_2fba8d1696d54a1a98df3c3c93ef8192"
       ],
       "layout":"IPY_MODEL_3f81f903aa49479f9ac5edae0987e8c1"
      }
     },
     "8c2ed1ecd7844b4b94c12d9c31c00308":{
      "model_name":"LayoutModel",
      "model_module":"@jupyter-widgets\/base",
      "model_module_version":"1.2.0",
      "state":{
       
      }
     },
     "2b72b77b1f8c45b29a53d09d11d4f9e2":{
      "model_name":"DescriptionStyleModel",
      "model_module":"@jupyter-widgets\/controls",
      "model_module_version":"1.5.0",
      "state":{
       "description_width":""
      }
     },
     "e8583803b4f74de18ffa21d61f912a58":{
      "model_name":"HTMLModel",
      "model_module":"@jupyter-widgets\/controls",
      "model_module_version":"1.5.0",
      "state":{
       "layout":"IPY_MODEL_8c2ed1ecd7844b4b94c12d9c31c00308",
       "style":"IPY_MODEL_2b72b77b1f8c45b29a53d09d11d4f9e2",
       "value":"Shuffling \/home\/datalore\/tensorflow_datasets\/imdb_reviews\/plain_text\/1.0.0.incomplete3S2TDD\/imdb_reviews-unsupervised.tfrecord*...:  56%"
      }
     },
     "fff4698dec8744b1b7fd48f2c4736f0f":{
      "model_name":"LayoutModel",
      "model_module":"@jupyter-widgets\/base",
      "model_module_version":"1.2.0",
      "state":{
       
      }
     },
     "23abc4d4113349779767fde2841e968f":{
      "model_name":"ProgressStyleModel",
      "model_module":"@jupyter-widgets\/controls",
      "model_module_version":"1.5.0",
      "state":{
       "description_width":""
      }
     },
     "bd1e386364eb409da672fb64924d8def":{
      "model_name":"FloatProgressModel",
      "model_module":"@jupyter-widgets\/controls",
      "model_module_version":"1.5.0",
      "state":{
       "layout":"IPY_MODEL_fff4698dec8744b1b7fd48f2c4736f0f",
       "max":50000,
       "style":"IPY_MODEL_23abc4d4113349779767fde2841e968f",
       "value":50000
      }
     },
     "64ab1d7c357148e6854ad76034e26679":{
      "model_name":"LayoutModel",
      "model_module":"@jupyter-widgets\/base",
      "model_module_version":"1.2.0",
      "state":{
       
      }
     },
     "1b502bba2d724b4f9f5e6e3c58b7f983":{
      "model_name":"DescriptionStyleModel",
      "model_module":"@jupyter-widgets\/controls",
      "model_module_version":"1.5.0",
      "state":{
       "description_width":""
      }
     },
     "1b1a1628ba214a659eb66cc15bd43567":{
      "model_name":"HTMLModel",
      "model_module":"@jupyter-widgets\/controls",
      "model_module_version":"1.5.0",
      "state":{
       "layout":"IPY_MODEL_64ab1d7c357148e6854ad76034e26679",
       "style":"IPY_MODEL_1b502bba2d724b4f9f5e6e3c58b7f983",
       "value":" 28037\/50000 [00:00&lt;00:00, 153588.54 examples\/s]"
      }
     },
     "81f180a181fc42978dd93ffb09780597":{
      "model_name":"LayoutModel",
      "model_module":"@jupyter-widgets\/base",
      "model_module_version":"1.2.0",
      "state":{
       "visibility":"hidden"
      }
     },
     "d377d985f68e43949f694585ba3f1bc2":{
      "model_name":"HBoxModel",
      "model_module":"@jupyter-widgets\/controls",
      "model_module_version":"1.5.0",
      "state":{
       "children":[
        "IPY_MODEL_e8583803b4f74de18ffa21d61f912a58",
        "IPY_MODEL_bd1e386364eb409da672fb64924d8def",
        "IPY_MODEL_1b1a1628ba214a659eb66cc15bd43567"
       ],
       "layout":"IPY_MODEL_81f180a181fc42978dd93ffb09780597"
      }
     }
    }
   }
  },
  "kernelspec":{
   "display_name":"Python",
   "language":"python",
   "name":"python"
  },
  "datalore":{
   "computation_mode":"JUPYTER",
   "package_manager":"pip",
   "base_environment":"default",
   "packages":[
    
   ],
   "report_row_ids":[
    
   ],
   "version":3
  }
 },
 "nbformat":4,
 "nbformat_minor":4
}